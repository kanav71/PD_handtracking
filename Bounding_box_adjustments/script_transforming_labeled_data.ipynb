{
 "cells": [
  {
   "cell_type": "code",
   "execution_count": 1,
   "id": "46a76d08",
   "metadata": {},
   "outputs": [],
   "source": [
    "## Combining all the files labelled by the students into 1 file\n",
    "import pandas as pd\n",
    "import os\n",
    "\n",
    "video_source = \"C:/Users/Kanav/Documents/Dissertation/Parkinsons_Disease/Data/parkinsons_videos/labeled_data/\"\n",
    "output_files = \"C:/Users/Kanav/Documents/Dissertation/Parkinsons_Disease/Data/parkinsons_videos/all_labeled_combined_file/\"\n",
    "\n",
    "file_data = pd.DataFrame()\n",
    "for file_list1 in os.listdir(video_source):\n",
    "    #print(file_list1)\n",
    "    for files in os.listdir(video_source + file_list1 + \"/\"):\n",
    "        #print(files)\n",
    "        if not files.endswith(\"yaml\"):\n",
    "            for sub_files in os.listdir(video_source + file_list1 + \"/\" + files + \"/\"):\n",
    "                if sub_files.endswith(\".csv\"):\n",
    "                    #print(sub_files)\n",
    "                    temp = pd.read_csv(video_source + file_list1 + \"/\" + files + \"/\" + sub_files, skiprows = 2)\n",
    "                    temp = temp.iloc[:,0:5]\n",
    "                    temp.columns = [\"name\", \"finger_x\",\"finger_y\", \"thumb_x\",\"thumb_y\"]\n",
    "            file_data = pd.concat([file_data,temp], ignore_index = True)\n"
   ]
  },
  {
   "cell_type": "code",
   "execution_count": 2,
   "id": "7af34357",
   "metadata": {},
   "outputs": [],
   "source": [
    "## somehow full row dups are coming in. So remove them\n",
    "file_data = file_data.drop_duplicates()"
   ]
  },
  {
   "cell_type": "code",
   "execution_count": 3,
   "id": "7269f034",
   "metadata": {},
   "outputs": [
    {
     "name": "stdout",
     "output_type": "stream",
     "text": [
      "the files are combined. Filename column is changed manually in csv outside of python - splitting name field\n"
     ]
    }
   ],
   "source": [
    "len(file_data)\n",
    "file_data.to_csv(\"C:/Users/Kanav/Documents/Dissertation/Parkinsons_Disease/Data/parkinsons_videos/all_labeled_combined_file/combined_labels.csv\")\n",
    "print(\"the files are combined. Filename column is changed manually in csv outside of python - splitting name field\")"
   ]
  },
  {
   "cell_type": "code",
   "execution_count": 4,
   "id": "1ae18b9f",
   "metadata": {},
   "outputs": [
    {
     "name": "stdout",
     "output_type": "stream",
     "text": [
      "loading the updated file\n"
     ]
    },
    {
     "data": {
      "text/html": [
       "<div>\n",
       "<style scoped>\n",
       "    .dataframe tbody tr th:only-of-type {\n",
       "        vertical-align: middle;\n",
       "    }\n",
       "\n",
       "    .dataframe tbody tr th {\n",
       "        vertical-align: top;\n",
       "    }\n",
       "\n",
       "    .dataframe thead th {\n",
       "        text-align: right;\n",
       "    }\n",
       "</style>\n",
       "<table border=\"1\" class=\"dataframe\">\n",
       "  <thead>\n",
       "    <tr style=\"text-align: right;\">\n",
       "      <th></th>\n",
       "      <th>video_name</th>\n",
       "      <th>seq</th>\n",
       "      <th>finger_x</th>\n",
       "      <th>finger_y</th>\n",
       "      <th>thumb_x</th>\n",
       "      <th>thumb_y</th>\n",
       "    </tr>\n",
       "  </thead>\n",
       "  <tbody>\n",
       "    <tr>\n",
       "      <th>0</th>\n",
       "      <td>OC01_R_10s_lowfps</td>\n",
       "      <td>img000.png</td>\n",
       "      <td>527.435088</td>\n",
       "      <td>643.753157</td>\n",
       "      <td>568.125216</td>\n",
       "      <td>694.943964</td>\n",
       "    </tr>\n",
       "    <tr>\n",
       "      <th>1</th>\n",
       "      <td>OC01_R_10s_lowfps</td>\n",
       "      <td>img001.png</td>\n",
       "      <td>535.072768</td>\n",
       "      <td>643.354545</td>\n",
       "      <td>567.283288</td>\n",
       "      <td>691.011391</td>\n",
       "    </tr>\n",
       "    <tr>\n",
       "      <th>2</th>\n",
       "      <td>OC01_R_10s_lowfps</td>\n",
       "      <td>img002.png</td>\n",
       "      <td>533.811996</td>\n",
       "      <td>637.657582</td>\n",
       "      <td>567.946800</td>\n",
       "      <td>693.272491</td>\n",
       "    </tr>\n",
       "    <tr>\n",
       "      <th>3</th>\n",
       "      <td>OC01_R_10s_lowfps</td>\n",
       "      <td>img003.png</td>\n",
       "      <td>527.324229</td>\n",
       "      <td>636.657715</td>\n",
       "      <td>567.484718</td>\n",
       "      <td>691.878388</td>\n",
       "    </tr>\n",
       "    <tr>\n",
       "      <th>4</th>\n",
       "      <td>OC01_R_10s_lowfps</td>\n",
       "      <td>img004.png</td>\n",
       "      <td>528.169044</td>\n",
       "      <td>636.975038</td>\n",
       "      <td>567.431449</td>\n",
       "      <td>691.435793</td>\n",
       "    </tr>\n",
       "  </tbody>\n",
       "</table>\n",
       "</div>"
      ],
      "text/plain": [
       "          video_name         seq    finger_x    finger_y     thumb_x  \\\n",
       "0  OC01_R_10s_lowfps  img000.png  527.435088  643.753157  568.125216   \n",
       "1  OC01_R_10s_lowfps  img001.png  535.072768  643.354545  567.283288   \n",
       "2  OC01_R_10s_lowfps  img002.png  533.811996  637.657582  567.946800   \n",
       "3  OC01_R_10s_lowfps  img003.png  527.324229  636.657715  567.484718   \n",
       "4  OC01_R_10s_lowfps  img004.png  528.169044  636.975038  567.431449   \n",
       "\n",
       "      thumb_y  \n",
       "0  694.943964  \n",
       "1  691.011391  \n",
       "2  693.272491  \n",
       "3  691.878388  \n",
       "4  691.435793  "
      ]
     },
     "execution_count": 4,
     "metadata": {},
     "output_type": "execute_result"
    }
   ],
   "source": [
    "# Loading the updated single file \n",
    "print(\"loading the updated file\")\n",
    "labels_file = pd.read_csv(\"C:/Users/Kanav/Documents/Dissertation/Parkinsons_Disease/Data/parkinsons_videos/all_labeled_combined_file/combined_labels_v1_updated_filenames.csv\")\n",
    "labels_file.head()"
   ]
  },
  {
   "cell_type": "code",
   "execution_count": 5,
   "id": "c9de7399",
   "metadata": {},
   "outputs": [],
   "source": [
    "# file_data.head()\n",
    "# kk.loc[kk[\"name\"].str.contains(\"YC101_R_10s_lowfps\")]"
   ]
  },
  {
   "cell_type": "code",
   "execution_count": 6,
   "id": "6be57ecd",
   "metadata": {},
   "outputs": [
    {
     "data": {
      "text/html": [
       "<div>\n",
       "<style scoped>\n",
       "    .dataframe tbody tr th:only-of-type {\n",
       "        vertical-align: middle;\n",
       "    }\n",
       "\n",
       "    .dataframe tbody tr th {\n",
       "        vertical-align: top;\n",
       "    }\n",
       "\n",
       "    .dataframe thead th {\n",
       "        text-align: right;\n",
       "    }\n",
       "</style>\n",
       "<table border=\"1\" class=\"dataframe\">\n",
       "  <thead>\n",
       "    <tr style=\"text-align: right;\">\n",
       "      <th></th>\n",
       "      <th>video_name</th>\n",
       "      <th>seq</th>\n",
       "      <th>finger_x</th>\n",
       "      <th>finger_y</th>\n",
       "      <th>thumb_x</th>\n",
       "      <th>thumb_y</th>\n",
       "    </tr>\n",
       "  </thead>\n",
       "  <tbody>\n",
       "    <tr>\n",
       "      <th>0</th>\n",
       "      <td>OC01_R_10s_lowfps.mp4</td>\n",
       "      <td>img000.png</td>\n",
       "      <td>527.435088</td>\n",
       "      <td>643.753157</td>\n",
       "      <td>568.125216</td>\n",
       "      <td>694.943964</td>\n",
       "    </tr>\n",
       "    <tr>\n",
       "      <th>1</th>\n",
       "      <td>OC01_R_10s_lowfps.mp4</td>\n",
       "      <td>img001.png</td>\n",
       "      <td>535.072768</td>\n",
       "      <td>643.354545</td>\n",
       "      <td>567.283288</td>\n",
       "      <td>691.011391</td>\n",
       "    </tr>\n",
       "    <tr>\n",
       "      <th>2</th>\n",
       "      <td>OC01_R_10s_lowfps.mp4</td>\n",
       "      <td>img002.png</td>\n",
       "      <td>533.811996</td>\n",
       "      <td>637.657582</td>\n",
       "      <td>567.946800</td>\n",
       "      <td>693.272491</td>\n",
       "    </tr>\n",
       "    <tr>\n",
       "      <th>3</th>\n",
       "      <td>OC01_R_10s_lowfps.mp4</td>\n",
       "      <td>img003.png</td>\n",
       "      <td>527.324229</td>\n",
       "      <td>636.657715</td>\n",
       "      <td>567.484718</td>\n",
       "      <td>691.878388</td>\n",
       "    </tr>\n",
       "    <tr>\n",
       "      <th>4</th>\n",
       "      <td>OC01_R_10s_lowfps.mp4</td>\n",
       "      <td>img004.png</td>\n",
       "      <td>528.169044</td>\n",
       "      <td>636.975038</td>\n",
       "      <td>567.431449</td>\n",
       "      <td>691.435793</td>\n",
       "    </tr>\n",
       "  </tbody>\n",
       "</table>\n",
       "</div>"
      ],
      "text/plain": [
       "              video_name         seq    finger_x    finger_y     thumb_x  \\\n",
       "0  OC01_R_10s_lowfps.mp4  img000.png  527.435088  643.753157  568.125216   \n",
       "1  OC01_R_10s_lowfps.mp4  img001.png  535.072768  643.354545  567.283288   \n",
       "2  OC01_R_10s_lowfps.mp4  img002.png  533.811996  637.657582  567.946800   \n",
       "3  OC01_R_10s_lowfps.mp4  img003.png  527.324229  636.657715  567.484718   \n",
       "4  OC01_R_10s_lowfps.mp4  img004.png  528.169044  636.975038  567.431449   \n",
       "\n",
       "      thumb_y  \n",
       "0  694.943964  \n",
       "1  691.011391  \n",
       "2  693.272491  \n",
       "3  691.878388  \n",
       "4  691.435793  "
      ]
     },
     "execution_count": 6,
     "metadata": {},
     "output_type": "execute_result"
    }
   ],
   "source": [
    "labels_file[\"video_name\"] = labels_file[\"video_name\"] + \".mp4\"\n",
    "labels_file.head()\n"
   ]
  },
  {
   "cell_type": "code",
   "execution_count": 7,
   "id": "7dc602f7",
   "metadata": {},
   "outputs": [
    {
     "data": {
      "text/html": [
       "<div>\n",
       "<style scoped>\n",
       "    .dataframe tbody tr th:only-of-type {\n",
       "        vertical-align: middle;\n",
       "    }\n",
       "\n",
       "    .dataframe tbody tr th {\n",
       "        vertical-align: top;\n",
       "    }\n",
       "\n",
       "    .dataframe thead th {\n",
       "        text-align: right;\n",
       "    }\n",
       "</style>\n",
       "<table border=\"1\" class=\"dataframe\">\n",
       "  <thead>\n",
       "    <tr style=\"text-align: right;\">\n",
       "      <th></th>\n",
       "      <th>video_name</th>\n",
       "      <th>seq</th>\n",
       "      <th>finger_x</th>\n",
       "      <th>finger_y</th>\n",
       "      <th>thumb_x</th>\n",
       "      <th>thumb_y</th>\n",
       "      <th>new_xmin</th>\n",
       "      <th>new_ymin</th>\n",
       "    </tr>\n",
       "  </thead>\n",
       "  <tbody>\n",
       "    <tr>\n",
       "      <th>0</th>\n",
       "      <td>OC01_R_10s_lowfps.mp4</td>\n",
       "      <td>img000.png</td>\n",
       "      <td>527.435088</td>\n",
       "      <td>643.753157</td>\n",
       "      <td>568.125216</td>\n",
       "      <td>694.943964</td>\n",
       "      <td>338</td>\n",
       "      <td>170</td>\n",
       "    </tr>\n",
       "    <tr>\n",
       "      <th>1</th>\n",
       "      <td>OC01_R_10s_lowfps.mp4</td>\n",
       "      <td>img001.png</td>\n",
       "      <td>535.072768</td>\n",
       "      <td>643.354545</td>\n",
       "      <td>567.283288</td>\n",
       "      <td>691.011391</td>\n",
       "      <td>338</td>\n",
       "      <td>170</td>\n",
       "    </tr>\n",
       "    <tr>\n",
       "      <th>2</th>\n",
       "      <td>OC01_R_10s_lowfps.mp4</td>\n",
       "      <td>img002.png</td>\n",
       "      <td>533.811996</td>\n",
       "      <td>637.657582</td>\n",
       "      <td>567.946800</td>\n",
       "      <td>693.272491</td>\n",
       "      <td>338</td>\n",
       "      <td>170</td>\n",
       "    </tr>\n",
       "    <tr>\n",
       "      <th>3</th>\n",
       "      <td>OC01_R_10s_lowfps.mp4</td>\n",
       "      <td>img003.png</td>\n",
       "      <td>527.324229</td>\n",
       "      <td>636.657715</td>\n",
       "      <td>567.484718</td>\n",
       "      <td>691.878388</td>\n",
       "      <td>338</td>\n",
       "      <td>170</td>\n",
       "    </tr>\n",
       "    <tr>\n",
       "      <th>4</th>\n",
       "      <td>OC01_R_10s_lowfps.mp4</td>\n",
       "      <td>img004.png</td>\n",
       "      <td>528.169044</td>\n",
       "      <td>636.975038</td>\n",
       "      <td>567.431449</td>\n",
       "      <td>691.435793</td>\n",
       "      <td>338</td>\n",
       "      <td>170</td>\n",
       "    </tr>\n",
       "  </tbody>\n",
       "</table>\n",
       "</div>"
      ],
      "text/plain": [
       "              video_name         seq    finger_x    finger_y     thumb_x  \\\n",
       "0  OC01_R_10s_lowfps.mp4  img000.png  527.435088  643.753157  568.125216   \n",
       "1  OC01_R_10s_lowfps.mp4  img001.png  535.072768  643.354545  567.283288   \n",
       "2  OC01_R_10s_lowfps.mp4  img002.png  533.811996  637.657582  567.946800   \n",
       "3  OC01_R_10s_lowfps.mp4  img003.png  527.324229  636.657715  567.484718   \n",
       "4  OC01_R_10s_lowfps.mp4  img004.png  528.169044  636.975038  567.431449   \n",
       "\n",
       "      thumb_y  new_xmin  new_ymin  \n",
       "0  694.943964       338       170  \n",
       "1  691.011391       338       170  \n",
       "2  693.272491       338       170  \n",
       "3  691.878388       338       170  \n",
       "4  691.435793       338       170  "
      ]
     },
     "execution_count": 7,
     "metadata": {},
     "output_type": "execute_result"
    }
   ],
   "source": [
    "## Now updating the labelled coordinates of the thumb and finger as per the cropped image\n",
    "b_box = pd.read_csv(\"C:/Users/Kanav/Documents/Dissertation/Parkinsons_Disease/Codes/Boundingbox_dim_files/file_with_updated_centres_dups_removed.csv\")\n",
    "b_box.head()\n",
    "\n",
    "labels_file_updt = pd.merge(labels_file, b_box, left_on='video_name', right_on='filename', how='inner').drop('filename', axis=1)\n",
    "labels_file_updt.head()"
   ]
  },
  {
   "cell_type": "code",
   "execution_count": 8,
   "id": "0d32546f",
   "metadata": {},
   "outputs": [],
   "source": [
    "## Extracting this file for checking accuracy of hand detection model\n",
    "labels_file_updt.to_csv(output_files + \"combined_labels_orig_only_to_check_hand_detect_accuracy.csv\")"
   ]
  },
  {
   "cell_type": "code",
   "execution_count": 135,
   "id": "b6396da7",
   "metadata": {},
   "outputs": [
    {
     "name": "stdout",
     "output_type": "stream",
     "text": [
      "all done!!\n"
     ]
    }
   ],
   "source": [
    "# updating the coordinates as per cropped bounding box\n",
    "labels_file_updt[\"new_finger_x\"] = labels_file_updt[\"finger_x\"] - labels_file_updt[\"new_xmin\"] \n",
    "labels_file_updt[\"new_finger_y\"] = labels_file_updt[\"finger_y\"] - labels_file_updt[\"new_ymin\"] \n",
    "labels_file_updt[\"new_thumb_x\"] = labels_file_updt[\"thumb_x\"] - labels_file_updt[\"new_xmin\"] \n",
    "labels_file_updt[\"new_thumb_y\"] = labels_file_updt[\"thumb_y\"] - labels_file_updt[\"new_ymin\"] \n",
    "\n",
    "#labels_file_updt.head()\n",
    "\n",
    "labels_file_updt.iloc[:,[0,1,8,9,10,11]].to_csv(output_files + \"combined_labels_v2_updated_xy.csv\")\n",
    "print(\"all done!!\")"
   ]
  },
  {
   "cell_type": "code",
   "execution_count": 2,
   "id": "c0afc98a",
   "metadata": {},
   "outputs": [
    {
     "name": "stdout",
     "output_type": "stream",
     "text": [
      "note in v3, manually removed P21 as it had 85 frames\n"
     ]
    }
   ],
   "source": [
    "print(\"note in v3, manually removed P21 as it had 85 frames\")"
   ]
  },
  {
   "cell_type": "code",
   "execution_count": null,
   "id": "b4c037f8",
   "metadata": {},
   "outputs": [],
   "source": []
  },
  {
   "cell_type": "code",
   "execution_count": 4,
   "id": "8dcf12b2",
   "metadata": {},
   "outputs": [],
   "source": [
    "## delete below after using\n",
    "# import cv2\n",
    "# import pandas as pd\n",
    "# import random\n",
    "# import numpy as np\n",
    "# xx = 'C:/Users/Kanav/Documents/Dissertation/Parkinsons_Disease/Codes/Fingertip-Mixed-Reality/Dataset/Train/' \n",
    "\n",
    "# image = cv2.imread(xx + \"OC01_R_10s_lowfps.mp4@49.jpg\", cv2.IMREAD_GRAYSCALE)\n"
   ]
  },
  {
   "cell_type": "code",
   "execution_count": 5,
   "id": "c0f96fcc",
   "metadata": {},
   "outputs": [
    {
     "name": "stdout",
     "output_type": "stream",
     "text": [
      "adjust coordinates after this\n"
     ]
    }
   ],
   "source": [
    "# old_size = image.shape[:2]\n",
    "# desired_size = max(old_size)\n",
    "# ratio = float(desired_size)/max(old_size)\n",
    "# new_size = tuple([int(x*ratio) for x in old_size])\n",
    "# new_size\n",
    "# delta_w = desired_size - new_size[1]\n",
    "# delta_h = desired_size - new_size[0]\n",
    "# top, bottom = delta_h//2, delta_h-(delta_h//2)\n",
    "# left, right = delta_w//2, delta_w-(delta_w//2)\n",
    "\n",
    "# color = [0,0,0]\n",
    "# image = cv2.copyMakeBorder(image, top, bottom, left, right, cv2.BORDER_CONSTANT,\n",
    "#     value=color)\n",
    "\n",
    "# print(\"adjust coordinates after this\")"
   ]
  }
 ],
 "metadata": {
  "kernelspec": {
   "display_name": "tf",
   "language": "python",
   "name": "tf"
  },
  "language_info": {
   "codemirror_mode": {
    "name": "ipython",
    "version": 3
   },
   "file_extension": ".py",
   "mimetype": "text/x-python",
   "name": "python",
   "nbconvert_exporter": "python",
   "pygments_lexer": "ipython3",
   "version": "3.9.12"
  }
 },
 "nbformat": 4,
 "nbformat_minor": 5
}
